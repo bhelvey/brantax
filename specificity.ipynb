{
 "cells": [
  {
   "cell_type": "code",
   "execution_count": 245,
   "metadata": {},
   "outputs": [],
   "source": [
    "import pandas as pd\n",
    "import matplotlib.pyplot as plt\n",
    "import numpy as np\n",
    "import requests\n",
    "import json\n",
    "from pprint import pprint\n",
    "import csv\n",
    "# Google API Key\n",
    "from config import key"
   ]
  },
  {
   "cell_type": "code",
   "execution_count": 246,
   "metadata": {},
   "outputs": [],
   "source": [
    "url = \"https://na1.api.riotgames.com/lol/match/v4/matches/\"\n",
    "api_f= \"api_key=\"\n",
    "\n"
   ]
  },
  {
   "cell_type": "code",
   "execution_count": null,
   "metadata": {},
   "outputs": [],
   "source": []
  },
  {
   "cell_type": "code",
   "execution_count": 261,
   "metadata": {
    "scrolled": false
   },
   "outputs": [
    {
     "ename": "KeyError",
     "evalue": "0",
     "output_type": "error",
     "traceback": [
      "\u001b[1;31m---------------------------------------------------------------------------\u001b[0m",
      "\u001b[1;31mKeyError\u001b[0m                                  Traceback (most recent call last)",
      "\u001b[1;32m<ipython-input-261-be0e5912fe8c>\u001b[0m in \u001b[0;36m<module>\u001b[1;34m\u001b[0m\n\u001b[0;32m     32\u001b[0m                 \u001b[1;31m#\"teamid\" : response[\"teams\"][0][\"teamId\"],\u001b[0m\u001b[1;33m\u001b[0m\u001b[1;33m\u001b[0m\u001b[1;33m\u001b[0m\u001b[0m\n\u001b[0;32m     33\u001b[0m                 \u001b[1;34m\"oh_TowerKills\"\u001b[0m \u001b[1;33m:\u001b[0m \u001b[0mresponse\u001b[0m\u001b[1;33m[\u001b[0m\u001b[1;34m\"teams\"\u001b[0m\u001b[1;33m]\u001b[0m\u001b[1;33m[\u001b[0m\u001b[1;36m0\u001b[0m\u001b[1;33m]\u001b[0m\u001b[1;33m[\u001b[0m\u001b[1;34m\"towerKills\"\u001b[0m\u001b[1;33m]\u001b[0m\u001b[1;33m,\u001b[0m\u001b[1;33m\u001b[0m\u001b[1;33m\u001b[0m\u001b[0m\n\u001b[1;32m---> 34\u001b[1;33m                 \u001b[1;34m\"oh_firstTower\"\u001b[0m \u001b[1;33m:\u001b[0m \u001b[0mresponse\u001b[0m\u001b[1;33m[\u001b[0m\u001b[1;36m0\u001b[0m\u001b[1;33m]\u001b[0m\u001b[1;33m[\u001b[0m\u001b[1;34m\"firstTower\"\u001b[0m\u001b[1;33m]\u001b[0m\u001b[1;33m,\u001b[0m\u001b[1;33m\u001b[0m\u001b[1;33m\u001b[0m\u001b[0m\n\u001b[0m\u001b[0;32m     35\u001b[0m                 \u001b[1;34m\"oh_firstInhibitor\"\u001b[0m \u001b[1;33m:\u001b[0m \u001b[0mresponse\u001b[0m\u001b[1;33m[\u001b[0m\u001b[1;34m\"teams\"\u001b[0m\u001b[1;33m]\u001b[0m\u001b[1;33m[\u001b[0m\u001b[1;36m0\u001b[0m\u001b[1;33m]\u001b[0m\u001b[1;33m[\u001b[0m\u001b[1;34m\"firstInhibitor\"\u001b[0m\u001b[1;33m]\u001b[0m\u001b[1;33m,\u001b[0m\u001b[1;33m\u001b[0m\u001b[1;33m\u001b[0m\u001b[0m\n\u001b[0;32m     36\u001b[0m                 \u001b[1;34m\"oh_dragonKills\"\u001b[0m \u001b[1;33m:\u001b[0m \u001b[0mresponse\u001b[0m\u001b[1;33m[\u001b[0m\u001b[1;34m\"teams\"\u001b[0m\u001b[1;33m]\u001b[0m\u001b[1;33m[\u001b[0m\u001b[1;36m0\u001b[0m\u001b[1;33m]\u001b[0m\u001b[1;33m[\u001b[0m\u001b[1;34m\"dragonKills\"\u001b[0m\u001b[1;33m]\u001b[0m\u001b[1;33m,\u001b[0m\u001b[1;33m\u001b[0m\u001b[1;33m\u001b[0m\u001b[0m\n",
      "\u001b[1;31mKeyError\u001b[0m: 0"
     ]
    }
   ],
   "source": [
    "#csv files to work through adjust the file path to needs\n",
    "#this is match data\n",
    "file = \"data/matchinfo.csv\"\n",
    "\n",
    "#this is a list of game ids to get data from\n",
    "qfile = \"data/queue.csv\"\n",
    "\n",
    "#jsonifying the api data\n",
    "#reading in the game ids\n",
    "queue = pd.read_csv(qfile, header = None)\n",
    "\n",
    "#partic_data = response['participants']\n",
    "\n",
    "#trying to create a loop to iterate through our gameids\n",
    "#so that we can get more than just the one data set\n",
    "queue_random = queue.sample(1)\n",
    "\n",
    "#n_url = (url + \"3019374593/?\" + api_f + key)\n",
    "#response = requests.get(n_url).json()\n",
    "\n",
    "for index,row in queue_random.iterrows():\n",
    "    n_url = (url + str(row[0]) + \"/?\"+ api_f + key) \n",
    "    response = requests.get(n_url).json()\n",
    "    for teamid in response:\n",
    "\n",
    "\n",
    "    # storing our numerical data based on a singular game\n",
    "    # pulling specific frames from team data to graph etc.\n",
    "    # Team id 100 tower kills / first tower kill / first inhibitor\n",
    "    # dragon kills / baron kills\n",
    "            oh_dict = {\n",
    "                #\"teamid\" : response[\"teams\"][0][\"teamId\"],\n",
    "                \"oh_TowerKills\" : response[\"teams\"][0][\"towerKills\"],\n",
    "                \"oh_firstTower\" : response[0][\"firstTower\"],\n",
    "                \"oh_firstInhibitor\" : response[\"teams\"][0][\"firstInhibitor\"],\n",
    "                \"oh_dragonKills\" : response[\"teams\"][0][\"dragonKills\"],\n",
    "                \"oh_firstBlood\" : response[\"teams\"][0][\"firstBlood\"],\n",
    "                    }\n",
    "    # Team id 200 tower kill data / first tower kill data / first inhibitor data\n",
    "    # dragon kills / baron kills\n",
    "            th_dict = {\n",
    "                #\"teamid\" : response[\"teams\"][1][\"teamId\"],\n",
    "                \"th_towerKills\" :  response[\"teams\"][1][\"towerKills\"],\n",
    "                \"th_firstTowerKill\" : response[\"teams\"][1][\"firstTower\"],\n",
    "                \"th_firstInhibitor\" : response[\"teams\"][1][\"firstInhibitor\"],\n",
    "                \"th_dragonKills\" : response[\"teams\"][1][\"dragonKills\"],\n",
    "                \"th_first_blood\" : response[\"teams\"][1][\"firstBlood\"]\n",
    "                        }\n",
    "    # team id 100 dataframe\n",
    "            oh_df = pd.DataFrame(oh_dict, index = [0])\n",
    "    # team id 200 dataframe\n",
    "            th_df = pd.DataFrame(th_dict, index = [0])\n",
    "\n",
    "    #    pprint (response)\n",
    "            th_df"
   ]
  },
  {
   "cell_type": "code",
   "execution_count": null,
   "metadata": {
    "scrolled": true
   },
   "outputs": [],
   "source": []
  },
  {
   "cell_type": "code",
   "execution_count": 38,
   "metadata": {},
   "outputs": [],
   "source": [
    "partic_1_dict = {\n",
    "        \"player_Id\" : partic_data[0][\"participantId\"],\n",
    "        \"hghtest_Tier\" : partic_data[0]['highestAchievedSeasonTier'],\n",
    "        \"player_Assists\" : partic_data[0]['stats'][\"assists\"],\n",
    "        \"player_Deaths\" : partic_data[0]['stats'][\"deaths\"],\n",
    "        \"player_DoubleKills\" : partic_data[0]['stats'][\"doubleKills\"],\n",
    "        \"player_Kills\" : partic_data[0]['stats'][\"kills\"],\n",
    "        \"player_Lane\" : partic_data[0][\"timeline\"][\"lane\"]\n",
    "        \"player_Gold\" : partic_data[0]['stats'][\"goldEarned\"],\n",
    "        \"player_Spent\" : partic_data[0]['stats'][\"goldSpent\"],\n",
    "            }"
   ]
  },
  {
   "cell_type": "code",
   "execution_count": 262,
   "metadata": {},
   "outputs": [],
   "source": [
    "#player data"
   ]
  },
  {
   "cell_type": "code",
   "execution_count": 10,
   "metadata": {},
   "outputs": [],
   "source": [
    "matchinfo_df = pd.read_csv(file)"
   ]
  },
  {
   "cell_type": "code",
   "execution_count": null,
   "metadata": {},
   "outputs": [],
   "source": []
  },
  {
   "cell_type": "code",
   "execution_count": 13,
   "metadata": {},
   "outputs": [],
   "source": [
    "#avg blue team game length based on Team Name\n",
    "bt_gl = matchinfo_df.groupby([\"blueTeamTag\"])\n",
    "avg_bt_gl = pd.DataFrame(bt_gl[\"gamelength\"].mean()) \n",
    "#avg red team game length based on Team Name\n",
    "rt_gl = matchinfo_df.groupby([\"redTeamTag\"])\n",
    "avg_rt_gl = pd.DataFrame(rt_gl[\"gamelength\"].mean()) \n",
    "#rt_bt_gl = pd.merge(avg_rt_gl,avg_bt_gl, on = \"redTeamTag\")\n",
    "#rt_bt_gl "
   ]
  },
  {
   "cell_type": "code",
   "execution_count": null,
   "metadata": {},
   "outputs": [],
   "source": []
  },
  {
   "cell_type": "code",
   "execution_count": null,
   "metadata": {},
   "outputs": [],
   "source": []
  }
 ],
 "metadata": {
  "kernelspec": {
   "display_name": "Python 3",
   "language": "python",
   "name": "python3"
  },
  "language_info": {
   "codemirror_mode": {
    "name": "ipython",
    "version": 3
   },
   "file_extension": ".py",
   "mimetype": "text/x-python",
   "name": "python",
   "nbconvert_exporter": "python",
   "pygments_lexer": "ipython3",
   "version": "3.7.6"
  }
 },
 "nbformat": 4,
 "nbformat_minor": 4
}
