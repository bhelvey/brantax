{
 "cells": [
  {
   "cell_type": "code",
   "execution_count": 255,
   "metadata": {},
   "outputs": [],
   "source": [
    "import pandas as pd\n",
    "import matplotlib.pyplot as plt\n",
    "import numpy as np\n",
    "import requests\n",
    "import json\n",
    "from pprint import pprint\n",
    "import csv\n",
    "from config import key"
   ]
  },
  {
   "cell_type": "code",
   "execution_count": 256,
   "metadata": {},
   "outputs": [],
   "source": [
    "url = \"https://na1.api.riotgames.com/lol/match/v4/matches/\"\n",
    "api_f= \"api_key=\""
   ]
  },
  {
   "cell_type": "code",
   "execution_count": 257,
   "metadata": {
    "scrolled": false
   },
   "outputs": [],
   "source": [
    "#csv files to work through adjust the file path to needs\n",
    "#this is match data\n",
    "file = \"data/matchinfo.csv\"\n",
    "#this is a list of game ids to get data from\n",
    "qfile = \"data/queue.csv\"\n",
    "\n",
    "#reading in the game ids\n",
    "queue = pd.read_csv(qfile, header = None)\n",
    "\n",
    "#partic_data = response['participants']\n",
    "\n",
    "#trying to create a loop to iterate through our gameids\n",
    "#so that we can get more than just the one data set\n",
    "queue_random = queue.sample(4)\n",
    "games = []\n",
    "\n",
    "#jsonifying the api data\n",
    "for index,row in queue_random.iterrows():\n",
    "    n_url = (url + str(row[0]) + \"/?\"+ api_f + key) \n",
    "    response = requests.get(n_url).json()\n",
    "    games.append(response) \n",
    "    \n"
   ]
  },
  {
   "cell_type": "code",
   "execution_count": null,
   "metadata": {
    "scrolled": true
   },
   "outputs": [],
   "source": []
  },
  {
   "cell_type": "code",
   "execution_count": 258,
   "metadata": {
    "scrolled": false
   },
   "outputs": [],
   "source": [
    "#identifying each players individual stats\n",
    "player_stats = { \n",
    "    \"player_number\" : [],\n",
    "    \"kills\": [],\n",
    "    \"assists\" : [],\n",
    "    \"deaths\" : [],\n",
    "    \"inhibitor_kills\" : [],\n",
    "    \"largest_multi\" : [],\n",
    "    \"lane\" : [],\n",
    "    \"result\" : [],\n",
    "                    }\n",
    "#identifying each players minion stats\n",
    "player_minion = {\n",
    "    \"total_minions\" : [],\n",
    "    \"creeps_per_min\" : []\n",
    "                }\n",
    "#identifying each players damage stats\n",
    "player_dmg = {\n",
    "    \"total_dmg\": [],\n",
    "    \"largest_crit\" : [],\n",
    "    \"magic_dmg\" : [],\n",
    "    \"magic_dmg_2_champ\" : [],\n",
    "    \"magic_dmg_taken\" : [],\n",
    "    \"physc_dmg\" : [],\n",
    "    \"physc_dmg_taken\" : [],\n",
    "    \"physc_dmg_2_champ\" : [],\n",
    "    \"total_dmg_2_champ\" : [],\n",
    "    \"total_dmg_tkn\" : [],\n",
    "    \n",
    "            }\n",
    "#identifying each players gold stats\n",
    "player_gold = {\n",
    "    \n",
    "    \"total_gold\" : [],\n",
    "    \"total_spent\" :[]\n",
    "            }\n",
    "\n",
    "\n",
    "team_stats = {\n",
    "    \n",
    "    \"team\": [],\n",
    "    \"towers_killed\" : [],\n",
    "    \"dragons_killed\" : [],\n",
    "    \"first_tower\" : [],\n",
    "    \"first_inhibitor\" : [],\n",
    "    \"first_blood\" : [],\n",
    "    \"result\" : [],\n",
    "    \n",
    "        }\n",
    "\n",
    "\n",
    "for game in games:\n",
    "    try:\n",
    "        players = game[\"participants\"]\n",
    "        teams = game[\"teams\"]\n",
    "        for player in players:\n",
    "            player_stats[\"player_number\"].append(player[\"participantId\"])\n",
    "            player_stats[\"lane\"].append(player[\"timeline\"][\"lane\"])\n",
    "            player_stats[\"result\"].append(int(player[\"stats\"][\"win\"]))\n",
    "            player_stats[\"kills\"].append(player[\"stats\"][\"kills\"])\n",
    "            player_stats[\"assists\"].append(player[\"stats\"][\"assists\"])\n",
    "            player_stats[\"deaths\"].append(player[\"stats\"][\"deaths\"])\n",
    "            player_stats[\"inhibitor_kills\"].append(player[\"stats\"][\"inhibitorKills\"])\n",
    "            player_stats[\"largest_multi\"].append(player[\"stats\"][\"largestMultiKill\"])\n",
    "            player_dmg[\"total_dmg\"].append(int(player[\"stats\"][\"totalDamageDealt\"]))\n",
    "            player_dmg[\"largest_crit\"].append(int(player[\"stats\"][\"largestCriticalStrike\"]))\n",
    "            player_dmg[\"magic_dmg\"].append(int(player[\"stats\"][\"magicDamageDealt\"]))\n",
    "            player_dmg[\"magic_dmg_taken\"].append(int(player[\"stats\"][\"magicalDamageTaken\"]))\n",
    "            player_dmg[\"magic_dmg_2_champ\"].append(int(player[\"stats\"][\"magicDamageDealtToChampions\"]))\n",
    "            player_dmg[\"physc_dmg\"].append(int(player[\"stats\"][\"physicalDamageDealt\"]))\n",
    "            player_dmg[\"physc_dmg_2_champ\"].append(int(player[\"stats\"][\"physicalDamageDealtToChampions\"]))\n",
    "            player_dmg[\"physc_dmg_take\"].append(int(player[\"stats\"][\"physicalDamageTaken\"]))\n",
    "            player_dmg[\"total_dmg_tkn\"].append(int(player[\"stats\"][\"totalDamageTaken\"]))\n",
    "            player_dmg[\"total_dmg_2_champ\"].append(int(player[\"stats\"][\"totalDamageDealtToChampions\"]))\n",
    "#            player_minion[\"total_minions\"].append(int(player[\"stats\"][\"totalMinionsKilled\"]))\n",
    "#            player_minion[\"creeps_per_min\"].append(int(player[\"timeline\"][\"creepsPerMinDeltas\"]))\n",
    "            player_gold[\"total_gold\"].append(player[\"stats\"][\"goldEarned\"])\n",
    "            player_gold[\"total_spent\"].append(player[\"stats\"][\"goldSpent\"])\n",
    "        for team in teams:\n",
    "            team_stats[\"team\"].append(team[\"teamId\"])\n",
    "            team_stats[\"towers_killed\"].append(team[\"towerKills\"])\n",
    "            team_stats[\"dragons_killed\"].append(team[\"dragonKills\"])\n",
    "            team_stats[\"first_tower\"].append(int(team[\"firstTower\"]))\n",
    "            team_stats[\"first_inhibitor\"].append(int(team[\"firstInhibitor\"]))\n",
    "            team_stats[\"first_blood\"].append(int(team[\"firstBlood\"]))\n",
    "            team_stats[\"result\"].append(int(team[\"win\"]))          \n",
    "    except:\n",
    "            player_stats[\"player_number\"].append(0)\n",
    "            player_stats[\"lane\"].append(0)\n",
    "            player_stats[\"result\"].append(0)\n",
    "            player_stats[\"kills\"].append(0)\n",
    "            player_stats[\"assists\"].append(0)\n",
    "            player_stats[\"deaths\"].append(0)\n",
    "            player_stats[\"inhibitor_kills\"].append(0)\n",
    "            player_stats[\"largest_multi\"].append(0)\n",
    "            player_dmg[\"total_dmg\"].append(0)\n",
    "            player_dmg[\"largest_crit\"].append(0)\n",
    "            player_dmg[\"magic_dmg\"].append(0)\n",
    "            player_dmg[\"magic_dmg_taken\"].append(0)\n",
    "            player_dmg[\"magic_dmg_2_champ\"].append(0)\n",
    "            player_dmg[\"physc_dmg\"].append(0)\n",
    "            player_dmg[\"physc_dmg_2_champ\"].append(0)\n",
    "            player_dmg[\"physc_dmg_taken\"].append(0)\n",
    "            player_dmg[\"total_dmg_tkn\"].append(0)\n",
    "            player_dmg[\"total_dmg_2_champ\"].append(0)\n",
    "#            player_minion[\"total_minions\"].append(\"N/a\")\n",
    "#            player_minion[\"creeps_per_min\"].append(\"N/a\")\n",
    "            player_gold[\"total_gold\"].append(0)\n",
    "            player_gold[\"total_spent\"].append(0)\n",
    "            team_stats[\"team\"].append(0)\n",
    "            team_stats[\"towers_killed\"].append(0)\n",
    "            team_stats[\"dragons_killed\"].append(0)\n",
    "            team_stats[\"first_tower\"].append(0)\n",
    "            team_stats[\"first_inhibitor\"].append(0)\n",
    "            team_stats[\"first_blood\"].append(0)\n",
    "            team_stats[\"result\"].append(0)\n",
    "            \n"
   ]
  },
  {
   "cell_type": "code",
   "execution_count": 259,
   "metadata": {
    "scrolled": true
   },
   "outputs": [],
   "source": [
    "player_stats_df = pd.DataFrame(player_stats)\n",
    "player_minion_df = pd.DataFrame(player_minion)\n",
    "player_dmg_df = pd.DataFrame([player_dmg])\n",
    "player_gold_df = pd.DataFrame(player_gold)\n",
    "team_stats_df = pd.DataFrame(team_stats)"
   ]
  },
  {
   "cell_type": "code",
   "execution_count": 260,
   "metadata": {
    "scrolled": true
   },
   "outputs": [
    {
     "data": {
      "text/plain": [
       "<matplotlib.axes._subplots.AxesSubplot at 0x1722805d588>"
      ]
     },
     "execution_count": 260,
     "metadata": {},
     "output_type": "execute_result"
    },
    {
     "data": {
      "image/png": "[encoded data removed]",
      "text/plain": [
       "<Figure size 432x288 with 1 Axes>"
      ]
     },
     "metadata": {
      "needs_background": "light"
     },
     "output_type": "display_data"
    }
   ],
   "source": [
    "#group first counts on win and lose \n",
    "x_axis = (len(team_stats_df[\"result\"]))\n",
    "player_stats_df.plot(kind = 'bar')\n",
    "#plt.show()"
   ]
  },
  {
   "cell_type": "code",
   "execution_count": null,
   "metadata": {
    "scrolled": true
   },
   "outputs": [],
   "source": []
  },
  {
   "cell_type": "code",
   "execution_count": null,
   "metadata": {},
   "outputs": [],
   "source": []
  },
  {
   "cell_type": "code",
   "execution_count": null,
   "metadata": {},
   "outputs": [],
   "source": []
  }
 ],
 "metadata": {
  "kernelspec": {
   "display_name": "Python 3",
   "language": "python",
   "name": "python3"
  },
  "language_info": {
   "codemirror_mode": {
    "name": "ipython",
    "version": 3
   },
   "file_extension": ".py",
   "mimetype": "text/x-python",
   "name": "python",
   "nbconvert_exporter": "python",
   "pygments_lexer": "ipython3",
   "version": "3.7.6"
  }
 },
 "nbformat": 4,
 "nbformat_minor": 4
}
