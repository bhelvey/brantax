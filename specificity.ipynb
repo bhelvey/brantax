{
 "cells": [
  {
   "cell_type": "code",
   "execution_count": 95,
   "metadata": {},
   "outputs": [],
   "source": [
    "import pandas as pd\n",
    "import matplotlib.pyplot as plt\n",
    "import numpy as np\n",
    "import requests\n",
    "import json\n",
    "from pprint import pprint\n",
    "import csv\n",
    "# Google API Key\n",
    "from config import key"
   ]
  },
  {
   "cell_type": "code",
   "execution_count": 96,
   "metadata": {},
   "outputs": [],
   "source": [
    "url = \"https://na1.api.riotgames.com/lol/match/v4/matches/\"\n",
    "api_f= \"api_key=\"\n",
    "\n"
   ]
  },
  {
   "cell_type": "code",
   "execution_count": null,
   "metadata": {},
   "outputs": [],
   "source": []
  },
  {
   "cell_type": "code",
   "execution_count": 97,
   "metadata": {
    "scrolled": false
   },
   "outputs": [],
   "source": [
    "#csv files to work through adjust the file path to needs\n",
    "#this is match data\n",
    "file = \"data/matchinfo.csv\"\n",
    "\n",
    "#this is a list of game ids to get data from\n",
    "qfile = \"data/queue.csv\"\n",
    "games = []\n",
    "#reading in the game ids\n",
    "queue = pd.read_csv(qfile, header = None)\n",
    "\n",
    "#partic_data = response['participants']\n",
    "\n",
    "#trying to create a loop to iterate through our gameids\n",
    "#so that we can get more than just the one data set\n",
    "queue_random = queue.sample(3)\n",
    "\n",
    "#jsonifying the api data\n",
    "for index,row in queue_random.iterrows():\n",
    "    n_url = (url + str(row[0]) + \"/?\"+ api_f + key) \n",
    "    response = requests.get(n_url).json()\n",
    "    games.append(response) "
   ]
  },
  {
   "cell_type": "code",
   "execution_count": 98,
   "metadata": {
    "scrolled": true
   },
   "outputs": [
    {
     "name": "stdout",
     "output_type": "stream",
     "text": [
      "100\n"
     ]
    }
   ],
   "source": [
    "\n",
    "    # storing our numerical data based on a singular game\n",
    "    # pulling specific frames from team data to graph etc.\n",
    "    # Team id 100 tower kills / first tower kill / first inhibitor\n",
    "    # dragon kills / baron kills\n",
    "    \n",
    "    \n",
    "    \n",
    "oh_dict = {\"teamid\" : games[0][\"teams\"][0][\"teamId\"],\n",
    "        \"oh_TowerKills\" : games[0][\"teams\"][0][\"towerKills\"],\n",
    "        \"oh_firstTower\" : games[0][\"teams\"][0][\"firstTower\"],\n",
    "        \"oh_firstInhibitor\" : games[0][\"teams\"][0][\"firstInhibitor\"],\n",
    "        \"oh_dragonKills\" : games[0][\"teams\"][0][\"dragonKills\"],\n",
    "        \"oh_firstBlood\" : games[0][\"teams\"][0][\"firstBlood\"],}\n",
    "                                  \n",
    "    # Team id 200 tower kill data / first tower kill data / first inhibitor data\n",
    "    # dragon kills / baron kills\n",
    "    \n",
    "th_dict = {\n",
    "        \"teamid\" : games[0][\"teams\"][1][\"teamId\"],\n",
    "        \"th_towerKills\" :  games[0][\"teams\"][1][\"towerKills\"],\n",
    "        \"th_firstTowerKill\" : games[0][\"teams\"][1][\"firstTower\"],\n",
    "        \"th_firstInhibitor\" : games[0][\"teams\"][1][\"firstInhibitor\"],\n",
    "        \"th_dragonKills\" : games[0][\"teams\"][1][\"dragonKills\"],\n",
    "        \"th_first_blood\" : games[0][\"teams\"][1][\"firstBlood\"]\n",
    "                    }\n",
    "\n",
    "        \n",
    "pprint ()"
   ]
  },
  {
   "cell_type": "code",
   "execution_count": 94,
   "metadata": {},
   "outputs": [
    {
     "name": "stdout",
     "output_type": "stream",
     "text": [
      "{'status': {'message': 'Data not found', 'status_code': 404}}\n"
     ]
    }
   ],
   "source": [
    "pprint(games[0])"
   ]
  },
  {
   "cell_type": "code",
   "execution_count": 53,
   "metadata": {},
   "outputs": [
    {
     "ename": "SyntaxError",
     "evalue": "invalid syntax (<ipython-input-53-6f3623948d87>, line 9)",
     "output_type": "error",
     "traceback": [
      "\u001b[1;36m  File \u001b[1;32m\"<ipython-input-53-6f3623948d87>\"\u001b[1;36m, line \u001b[1;32m9\u001b[0m\n\u001b[1;33m    \"player_Gold\" : partic_data[0]['stats'][\"goldEarned\"],\u001b[0m\n\u001b[1;37m                ^\u001b[0m\n\u001b[1;31mSyntaxError\u001b[0m\u001b[1;31m:\u001b[0m invalid syntax\n"
     ]
    }
   ],
   "source": [
    "partic_1_dict = {\n",
    "        \"player_Id\" : partic_data[0][\"participantId\"],\n",
    "        \"hghtest_Tier\" : partic_data[0]['highestAchievedSeasonTier'],\n",
    "        \"player_Assists\" : partic_data[0]['stats'][\"assists\"],\n",
    "        \"player_Deaths\" : partic_data[0]['stats'][\"deaths\"],\n",
    "        \"player_DoubleKills\" : partic_data[0]['stats'][\"doubleKills\"],\n",
    "        \"player_Kills\" : partic_data[0]['stats'][\"kills\"],\n",
    "        \"player_Lane\" : partic_data[0][\"timeline\"][\"lane\"]\n",
    "        \"player_Gold\" : partic_data[0]['stats'][\"goldEarned\"],\n",
    "        \"player_Spent\" : partic_data[0]['stats'][\"goldSpent\"],\n",
    "            }"
   ]
  },
  {
   "cell_type": "code",
   "execution_count": 63,
   "metadata": {},
   "outputs": [
    {
     "name": "stdout",
     "output_type": "stream",
     "text": [
      "[{'bans': [{'championId': 27, 'pickTurn': 1},\n",
      "           {'championId': 254, 'pickTurn': 2},\n",
      "           {'championId': 236, 'pickTurn': 3},\n",
      "           {'championId': 25, 'pickTurn': 4},\n",
      "           {'championId': 81, 'pickTurn': 5}],\n",
      "  'baronKills': 0,\n",
      "  'dominionVictoryScore': 0,\n",
      "  'dragonKills': 0,\n",
      "  'firstBaron': False,\n",
      "  'firstBlood': True,\n",
      "  'firstDragon': False,\n",
      "  'firstInhibitor': False,\n",
      "  'firstRiftHerald': False,\n",
      "  'firstTower': False,\n",
      "  'inhibitorKills': 0,\n",
      "  'riftHeraldKills': 0,\n",
      "  'teamId': 100,\n",
      "  'towerKills': 0,\n",
      "  'vilemawKills': 0,\n",
      "  'win': 'Win'},\n",
      " {'bans': [{'championId': 67, 'pickTurn': 6},\n",
      "           {'championId': 119, 'pickTurn': 7},\n",
      "           {'championId': 143, 'pickTurn': 8},\n",
      "           {'championId': 75, 'pickTurn': 9},\n",
      "           {'championId': 24, 'pickTurn': 10}],\n",
      "  'baronKills': 0,\n",
      "  'dominionVictoryScore': 0,\n",
      "  'dragonKills': 0,\n",
      "  'firstBaron': False,\n",
      "  'firstBlood': False,\n",
      "  'firstDragon': False,\n",
      "  'firstInhibitor': False,\n",
      "  'firstRiftHerald': False,\n",
      "  'firstTower': False,\n",
      "  'inhibitorKills': 0,\n",
      "  'riftHeraldKills': 0,\n",
      "  'teamId': 200,\n",
      "  'towerKills': 0,\n",
      "  'vilemawKills': 0,\n",
      "  'win': 'Fail'}]\n"
     ]
    }
   ],
   "source": [
    "pprint(team_id)\n",
    "#player data"
   ]
  },
  {
   "cell_type": "code",
   "execution_count": 347,
   "metadata": {},
   "outputs": [],
   "source": [
    "matchinfo_df = pd.read_csv(file)"
   ]
  },
  {
   "cell_type": "code",
   "execution_count": null,
   "metadata": {},
   "outputs": [],
   "source": []
  },
  {
   "cell_type": "code",
   "execution_count": 348,
   "metadata": {},
   "outputs": [],
   "source": [
    "#avg blue team game length based on Team Name\n",
    "bt_gl = matchinfo_df.groupby([\"blueTeamTag\"])\n",
    "avg_bt_gl = pd.DataFrame(bt_gl[\"gamelength\"].mean()) \n",
    "#avg red team game length based on Team Name\n",
    "rt_gl = matchinfo_df.groupby([\"redTeamTag\"])\n",
    "avg_rt_gl = pd.DataFrame(rt_gl[\"gamelength\"].mean()) \n",
    "#rt_bt_gl = pd.merge(avg_rt_gl,avg_bt_gl, on = \"redTeamTag\")\n",
    "#rt_bt_gl "
   ]
  },
  {
   "cell_type": "code",
   "execution_count": null,
   "metadata": {},
   "outputs": [],
   "source": []
  },
  {
   "cell_type": "code",
   "execution_count": null,
   "metadata": {},
   "outputs": [],
   "source": []
  },
  {
   "cell_type": "code",
   "execution_count": null,
   "metadata": {},
   "outputs": [],
   "source": []
  },
  {
   "cell_type": "code",
   "execution_count": null,
   "metadata": {},
   "outputs": [],
   "source": []
  },
  {
   "cell_type": "code",
   "execution_count": null,
   "metadata": {},
   "outputs": [],
   "source": []
  }
 ],
 "metadata": {
  "kernelspec": {
   "display_name": "Python 3",
   "language": "python",
   "name": "python3"
  },
  "language_info": {
   "codemirror_mode": {
    "name": "ipython",
    "version": 3
   },
   "file_extension": ".py",
   "mimetype": "text/x-python",
   "name": "python",
   "nbconvert_exporter": "python",
   "pygments_lexer": "ipython3",
   "version": "3.7.6"
  }
 },
 "nbformat": 4,
 "nbformat_minor": 4
}
