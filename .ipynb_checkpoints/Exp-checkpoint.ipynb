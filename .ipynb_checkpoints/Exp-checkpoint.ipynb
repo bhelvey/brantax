{
 "cells": [
  {
   "cell_type": "code",
   "execution_count": 78,
   "metadata": {},
   "outputs": [],
   "source": [
    "import pandas as pd\n",
    "import matplotlib.pyplot as plt\n",
    "import numpy as np\n",
    "import requests\n",
    "import json\n",
    "from pprint import pprint\n",
    "# Google API Key\n",
    "from config import api_key"
   ]
  },
  {
   "cell_type": "code",
   "execution_count": 79,
   "metadata": {},
   "outputs": [],
   "source": [
    "url = \"https://na1.api.riotgames.com/lol/match/v4/matches/3009937420?\"\n",
    "\n",
    "api_key1 = \"api_key=\"\n",
    "n_url = url + api_key1 + api_key"
   ]
  },
  {
   "cell_type": "code",
   "execution_count": 80,
   "metadata": {},
   "outputs": [
    {
     "name": "stdout",
     "output_type": "stream",
     "text": [
      "https://na1.api.riotgames.com/lol/match/v4/matches/3009937420?api_key=RGAPI-e6b7b97a-d60c-4a5c-85ca-d3766d597f96\n"
     ]
    }
   ],
   "source": [
    "#print (n_url)\n",
    "response = requests.get(n_url)\n",
    "print(n_url)\n",
    "#pprint (response)"
   ]
  },
  {
   "cell_type": "code",
   "execution_count": null,
   "metadata": {},
   "outputs": [],
   "source": []
  }
 ],
 "metadata": {
  "kernelspec": {
   "display_name": "Python 3",
   "language": "python",
   "name": "python3"
  },
  "language_info": {
   "codemirror_mode": {
    "name": "ipython",
    "version": 3
   },
   "file_extension": ".py",
   "mimetype": "text/x-python",
   "name": "python",
   "nbconvert_exporter": "python",
   "pygments_lexer": "ipython3",
   "version": "3.7.6"
  }
 },
 "nbformat": 4,
 "nbformat_minor": 4
}
