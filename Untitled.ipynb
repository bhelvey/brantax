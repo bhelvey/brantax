{
 "cells": [
  {
   "cell_type": "code",
   "execution_count": null,
   "metadata": {},
   "outputs": [],
   "source": [
    "Largest_Dmg_Crit\" : players[0]['stats']['largestCriticalStrike'],\n",
    "            \"Magic_Dmg_Dealt\" : players[0]['stats'][\"magicDamageDealt\"],\n",
    "            \"Magic_Dmg_Dealt_2c\" : players[0]['stats'][\"magicDamageDealtToChampions\"],\n",
    "            \"Magic_Dmg_Taken\" : players[0]['stats'][\"magicalDamageTaken\"],\n",
    "            \"Magic_Dmg_Dealt\" : players[0]['stats'][\"magicDamageDealt\"],\n",
    "            \"Physical_Dmg_Dealt\" : players[0]['stats'][\"physicalDamageDealt\"],\n",
    "            \"Physical_Dmg_Dealt_2c\" : players[0]['stats'][\"magicDamageDealtToChampions\"],\n",
    "            \"Physical_Dmg_Taken\" : players[0]['stats'][\"physicalDamageDealt\"],\n",
    "            \"Total_Dmg_Dealt\" : players[0]['stats']['totalDamageDealt'],\n",
    "            \"Total_Dmg_Dealt_2c\" : players[0]['stats']['totalDamageDealtToChampions'],\n",
    "            \"Total_Dmg_Taken\" : players[0]['stats']['totalDamageTaken'],\n",
    "            \"CC_Time\" : players[0]['stats']['timeCCingOthers'],\n",
    "            \"Sight_Wards_Bought\" : players[0]['stats']['sightWardsBoughtInGame'],\n",
    "            \"Lane\" : players[0][\"timeline\"][\"lane\"],\n",
    "            \"Win\" : int(players[0]['stats']['win']),"
   ]
  }
 ],
 "metadata": {
  "kernelspec": {
   "display_name": "Python 3",
   "language": "python",
   "name": "python3"
  },
  "language_info": {
   "codemirror_mode": {
    "name": "ipython",
    "version": 3
   },
   "file_extension": ".py",
   "mimetype": "text/x-python",
   "name": "python",
   "nbconvert_exporter": "python",
   "pygments_lexer": "ipython3",
   "version": "3.7.6"
  }
 },
 "nbformat": 4,
 "nbformat_minor": 4
}
